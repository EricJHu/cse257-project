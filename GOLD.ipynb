{
 "cells": [
  {
   "cell_type": "code",
   "execution_count": 26,
   "metadata": {},
   "outputs": [],
   "source": [
    "import numpy as np\n",
    "import random\n",
    "import math\n",
    "import matplotlib.pyplot as plt\n",
    "from matplotlib.pyplot import figure"
   ]
  },
  {
   "cell_type": "code",
   "execution_count": 27,
   "metadata": {},
   "outputs": [],
   "source": [
    "# Initialize Constants\n",
    "T = 1000\n",
    "numActions = 100\n",
    "maxDelay = 10\n",
    "\n",
    "delta = 0.5\n",
    "gamma = 0.5"
   ]
  },
  {
   "cell_type": "code",
   "execution_count": 32,
   "metadata": {},
   "outputs": [],
   "source": [
    "# Helper Functions\n",
    "\n",
    "# Actions in a 1-d action space\n",
    "def generateActions(num):\n",
    "    a = []\n",
    "    for i in range(num):\n",
    "        a.append(random.uniform(-10, 10))\n",
    "    return a\n",
    "\n",
    "# Tuple of (reward, delay)\n",
    "def generateRewards(num):\n",
    "    r = []\n",
    "    for i in range(num):\n",
    "        r.append((random.uniform(-1,1), random.randrange(0, 5)))\n",
    "    return r\n",
    "\n",
    "def getMax(rewards):\n",
    "    r = []\n",
    "    for i in rewards:\n",
    "        r.append(i[0])\n",
    "    return max(r)\n",
    "\n",
    "def getClosestAction(xhat, a, currentAction):\n",
    "    temp = a.copy()\n",
    "    temp.remove(currentAction)\n",
    "    \n",
    "    return min(temp, key=lambda x:abs(x-xhat))\n",
    "    \n",
    "    "
   ]
  },
  {
   "cell_type": "code",
   "execution_count": 42,
   "metadata": {},
   "outputs": [],
   "source": [
    "def GOLD(a, r):\n",
    "    # Initialize variables\n",
    "    totalRegret = [0]\n",
    "    delayArray = []      # Keeps track of what stage the reward will be received\n",
    "    priorityQueue = []\n",
    "    chosenActions = []   # Gradient update\n",
    "    maxReward = getMax(r)\n",
    "    \n",
    "    Zt = []\n",
    "    uhat = []\n",
    "    \n",
    "    initialAction = random.choice(a)\n",
    "    index = a.index(initialAction)\n",
    "    expectedRegret = maxReward - r[index][0]\n",
    "    delayArray.append((initialAction, r[index][1], expectedRegret))\n",
    "    chosenActions.append(initialAction)\n",
    "    \n",
    "    for t in range(T):\n",
    "        Zt.append(random.uniform(-1, 1))\n",
    "        xhat = chosenActions[t] + delta * (Zt[t] - (1/10)*(chosenActions[t] - random.choice(a)))\n",
    "        \n",
    "        xhat = getClosestAction(xhat, a, chosenActions[t])\n",
    "        uhat.append(r[a.index(xhat)][0])\n",
    "        \n",
    "#         delayArray.append((chosenAction, t + r[index][1], expectedRegret))\n",
    "        \n",
    "        for d in delayArray:\n",
    "            if d[1] == t:\n",
    "                priorityQueue.append(d[0])\n",
    "                totalRegret.append(d[2] + totalRegret[-1])\n",
    "                \n",
    "        if len(priorityQueue) == 0:\n",
    "            chosenActions.append(chosenActions[-1])\n",
    "        else:\n",
    "            qt = priorityQueue.pop(0)\n",
    "            index = chosenActions.index(qt)\n",
    "            vhat = 0.5 * uhat[index] * Zt[index]\n",
    "            \n",
    "            for i in a:\n",
    "                minim = 100\n",
    "                nextAction = i\n",
    "                \n",
    "                value = abs(i - (chosenActions[t] + 0.5 * vhat))\n",
    "                \n",
    "                if value < minim:\n",
    "                    nextAction = i\n",
    "                    minim = value\n",
    "            chosenActions.append(nextAction)\n",
    "            \n",
    "        index = a.index(chosenActions[-1])\n",
    "        delayArray.append((chosenActions[-1], t + r[index][1], maxReward - r[index][0]))\n",
    "        \n",
    "    return totalRegret"
   ]
  },
  {
   "cell_type": "code",
   "execution_count": 43,
   "metadata": {},
   "outputs": [],
   "source": [
    "actions = generateActions(numActions)\n",
    "rewards = generateRewards(numActions)"
   ]
  },
  {
   "cell_type": "code",
   "execution_count": 51,
   "metadata": {},
   "outputs": [],
   "source": [
    "regretArray = GOLD(actions, rewards)"
   ]
  },
  {
   "cell_type": "code",
   "execution_count": 58,
   "metadata": {},
   "outputs": [],
   "source": [
    "upperBound = []\n",
    "for t in range(T):\n",
    "    upperBound.append(pow(t, 3/4) + pow(t, 2/3 + .5/3))"
   ]
  },
  {
   "cell_type": "code",
   "execution_count": 59,
   "metadata": {},
   "outputs": [
    {
     "data": {
      "image/png": "[encoded data removed]",
      "text/plain": [
       "<Figure size 432x288 with 1 Axes>"
      ]
     },
     "metadata": {
      "needs_background": "light"
     },
     "output_type": "display_data"
    },
    {
     "data": {
      "text/plain": [
       "<Figure size 432x288 with 0 Axes>"
      ]
     },
     "metadata": {},
     "output_type": "display_data"
    }
   ],
   "source": [
    "#Plot stage vs regret\n",
    "x = np.linspace(0, 10, 1000)\n",
    "\n",
    "plt.plot(regretArray)\n",
    "plt.plot(upperBound)\n",
    "plt.legend(['Total Regret','Regret Bound'])\n",
    "plt.xlabel(\"Stage\")\n",
    "plt.ylabel(\"Total Regret\")\n",
    "plt.show()\n",
    "plt.savefig(\"Stage vs Regret\")"
   ]
  },
  {
   "cell_type": "code",
   "execution_count": null,
   "metadata": {},
   "outputs": [],
   "source": []
  },
  {
   "cell_type": "code",
   "execution_count": null,
   "metadata": {},
   "outputs": [],
   "source": []
  }
 ],
 "metadata": {
  "kernelspec": {
   "display_name": "Python 3",
   "language": "python",
   "name": "python3"
  },
  "language_info": {
   "codemirror_mode": {
    "name": "ipython",
    "version": 3
   },
   "file_extension": ".py",
   "mimetype": "text/x-python",
   "name": "python",
   "nbconvert_exporter": "python",
   "pygments_lexer": "ipython3",
   "version": "3.6.9"
  }
 },
 "nbformat": 4,
 "nbformat_minor": 4
}
